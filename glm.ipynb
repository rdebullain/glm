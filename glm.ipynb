{
 "cells": [
  {
   "cell_type": "markdown",
   "metadata": {},
   "source": [
    "# Generalized Linear Models"
   ]
  },
  {
   "cell_type": "code",
   "execution_count": 1,
   "metadata": {
    "ExecuteTime": {
     "end_time": "2020-04-27T08:17:12.193902Z",
     "start_time": "2020-04-27T08:17:11.493171Z"
    }
   },
   "outputs": [],
   "source": [
    "import numpy as np\n",
    "import pandas as pd\n",
    "import statsmodels.api as sm\n",
    "import statsmodels.formula.api as smf"
   ]
  },
  {
   "cell_type": "markdown",
   "metadata": {},
   "source": [
    "## Loading Data"
   ]
  },
  {
   "cell_type": "code",
   "execution_count": 2,
   "metadata": {
    "ExecuteTime": {
     "end_time": "2020-04-27T08:17:16.596033Z",
     "start_time": "2020-04-27T08:17:16.586871Z"
    }
   },
   "outputs": [],
   "source": [
    "\n",
    "star98 = sm.datasets.star98.load_pandas().data\n",
    "formula = 'SUCCESS ~ LOWINC + PERASIAN + PERBLACK + PERHISP + PCTCHRT + \\\n",
    "           PCTYRRND + PERMINTE*AVYRSEXP*AVSALK + PERSPENK*PTRATIO*PCTAF'\n",
    "data = star98[['NABOVE', 'NBELOW', 'LOWINC', 'PERASIAN', 'PERBLACK', 'PERHISP',\n",
    "              'PCTCHRT', 'PCTYRRND', 'PERMINTE', 'AVYRSEXP', 'AVSALK',\n",
    "              'PERSPENK', 'PTRATIO', 'PCTAF']].copy()\n",
    "endog = data['NABOVE'] / (data['NABOVE'] + data.pop('NBELOW'))\n",
    "del data['NABOVE']\n",
    "data['SUCCESS'] = endog"
   ]
  },
  {
   "cell_type": "markdown",
   "metadata": {},
   "source": [
    "## Fitting a Generalized Linear Model"
   ]
  },
  {
   "cell_type": "code",
   "execution_count": 3,
   "metadata": {},
   "outputs": [],
   "source": [
    "model = smf.glm(formula=formula, data=data, family=sm.families.Binomial())"
   ]
  },
  {
   "cell_type": "code",
   "execution_count": 4,
   "metadata": {},
   "outputs": [
    {
     "name": "stdout",
     "output_type": "stream",
     "text": [
      "                 Generalized Linear Model Regression Results                  \n",
      "==============================================================================\n",
      "Dep. Variable:                SUCCESS   No. Observations:                  303\n",
      "Model:                            GLM   Df Residuals:                      282\n",
      "Model Family:                Binomial   Df Model:                           20\n",
      "Link Function:                  Logit   Scale:                          1.0000\n",
      "Method:                          IRLS   Log-Likelihood:                -127.33\n",
      "Date:                Sun, 07 Apr 2024   Deviance:                       8.5477\n",
      "Time:                        02:36:02   Pearson chi2:                     8.48\n",
      "No. Iterations:                     4   Pseudo R-squ. (CS):             0.1115\n",
      "Covariance Type:            nonrobust                                         \n",
      "============================================================================================\n",
      "                               coef    std err          z      P>|z|      [0.025      0.975]\n",
      "--------------------------------------------------------------------------------------------\n",
      "Intercept                    0.4037     25.036      0.016      0.987     -48.665      49.472\n",
      "LOWINC                      -0.0204      0.010     -1.982      0.048      -0.041      -0.000\n",
      "PERASIAN                     0.0159      0.017      0.910      0.363      -0.018       0.050\n",
      "PERBLACK                    -0.0198      0.020     -1.004      0.316      -0.058       0.019\n",
      "PERHISP                     -0.0096      0.010     -0.951      0.341      -0.029       0.010\n",
      "PCTCHRT                     -0.0022      0.022     -0.103      0.918      -0.045       0.040\n",
      "PCTYRRND                    -0.0022      0.006     -0.348      0.728      -0.014       0.010\n",
      "PERMINTE                     0.1068      0.787      0.136      0.892      -1.436       1.650\n",
      "AVYRSEXP                    -0.0411      1.176     -0.035      0.972      -2.346       2.264\n",
      "PERMINTE:AVYRSEXP           -0.0031      0.054     -0.057      0.954      -0.108       0.102\n",
      "AVSALK                       0.0131      0.295      0.044      0.965      -0.566       0.592\n",
      "PERMINTE:AVSALK             -0.0019      0.013     -0.145      0.885      -0.028       0.024\n",
      "AVYRSEXP:AVSALK              0.0008      0.020      0.038      0.970      -0.039       0.041\n",
      "PERMINTE:AVYRSEXP:AVSALK  5.978e-05      0.001      0.068      0.946      -0.002       0.002\n",
      "PERSPENK                    -0.3097      4.233     -0.073      0.942      -8.606       7.987\n",
      "PTRATIO                      0.0096      0.919      0.010      0.992      -1.792       1.811\n",
      "PERSPENK:PTRATIO             0.0066      0.206      0.032      0.974      -0.397       0.410\n",
      "PCTAF                       -0.0143      0.474     -0.030      0.976      -0.944       0.916\n",
      "PERSPENK:PCTAF               0.0105      0.098      0.107      0.915      -0.182       0.203\n",
      "PTRATIO:PCTAF               -0.0001      0.022     -0.005      0.996      -0.044       0.044\n",
      "PERSPENK:PTRATIO:PCTAF      -0.0002      0.005     -0.051      0.959      -0.010       0.009\n",
      "============================================================================================\n"
     ]
    }
   ],
   "source": [
    "model = model.fit()\n",
    "print_model = model.summary()\n",
    "print(print_model)"
   ]
  },
  {
   "cell_type": "markdown",
   "metadata": {},
   "source": [
    "The statsmodels module's output only has K-1 equations (in this case two equations), which show coefficients against a reference group. In the abalone example, the reference group was chosen to be female. The coefficients represent the log of ratios between two probabilities: the probability of belonging to a group of interest vs. the probability of belonging to the reference group.  In the abalone example, the reference group was female, therefore the equation below represents the first set of coefficients marked as SEX=Infant.  Note that there are two sets of coefficients, one marked as Infant and the second marked as Male."
   ]
  },
  {
   "cell_type": "markdown",
   "metadata": {},
   "source": [
    "## Accessing Model Parameters\n",
    "\n",
    "In statsmodels, the `fit()` method returns a `Result` object. The model coefficients, standard errors, p-values, etc., are all available from this Result object.\n",
    "\n",
    "Conveniently these are stored as Pandas dataframes with the parameter name as the dataframe index."
   ]
  },
  {
   "cell_type": "code",
   "execution_count": 5,
   "metadata": {},
   "outputs": [
    {
     "data": {
      "text/plain": [
       "Intercept                   0.403664\n",
       "LOWINC                     -0.020396\n",
       "PERASIAN                    0.015865\n",
       "PERBLACK                   -0.019802\n",
       "PERHISP                    -0.009589\n",
       "PCTCHRT                    -0.002218\n",
       "PCTYRRND                   -0.002167\n",
       "PERMINTE                    0.106822\n",
       "AVYRSEXP                   -0.041119\n",
       "PERMINTE:AVYRSEXP          -0.003065\n",
       "AVSALK                      0.013091\n",
       "PERMINTE:AVSALK            -0.001899\n",
       "AVYRSEXP:AVSALK             0.000766\n",
       "PERMINTE:AVYRSEXP:AVSALK    0.000060\n",
       "PERSPENK                   -0.309703\n",
       "PTRATIO                     0.009565\n",
       "PERSPENK:PTRATIO            0.006611\n",
       "PCTAF                      -0.014274\n",
       "PERSPENK:PCTAF              0.010513\n",
       "PTRATIO:PCTAF              -0.000114\n",
       "PERSPENK:PTRATIO:PCTAF     -0.000246\n",
       "dtype: float64"
      ]
     },
     "execution_count": 5,
     "metadata": {},
     "output_type": "execute_result"
    }
   ],
   "source": [
    "model.params"
   ]
  },
  {
   "cell_type": "markdown",
   "metadata": {},
   "source": [
    "Here are some of the relevant values for a Logistic Regression.\n",
    "\n",
    "\n",
    "|Attr/func|Description|\n",
    "| ------------- |-------------|\n",
    "|params|Estimated model parameters. Appears as coef when calling summary() on a fitted model|\n",
    "|bse|Standard error|\n",
    "|tvalues|A coefficient's t-statistic|\n",
    "|pvalues|The model's p-value|\n",
    "|conf_int(alpha)|Method that calculates the confidence interval for the estimated parameters. To call: model.conf_int(0.05)|\n",
    "\n"
   ]
  }
 ],
 "metadata": {
  "kernelspec": {
   "display_name": "Python 3.9.7 ('base')",
   "language": "python",
   "name": "python3"
  },
  "language_info": {
   "codemirror_mode": {
    "name": "ipython",
    "version": 3
   },
   "file_extension": ".py",
   "mimetype": "text/x-python",
   "name": "python",
   "nbconvert_exporter": "python",
   "pygments_lexer": "ipython3",
   "version": "3.9.19"
  },
  "toc": {
   "base_numbering": 1,
   "nav_menu": {},
   "number_sections": true,
   "sideBar": true,
   "skip_h1_title": false,
   "title_cell": "Table of Contents",
   "title_sidebar": "Contents",
   "toc_cell": false,
   "toc_position": {},
   "toc_section_display": true,
   "toc_window_display": false
  },
  "varInspector": {
   "cols": {
    "lenName": 16,
    "lenType": 16,
    "lenVar": 40
   },
   "kernels_config": {
    "python": {
     "delete_cmd_postfix": "",
     "delete_cmd_prefix": "del ",
     "library": "var_list.py",
     "varRefreshCmd": "print(var_dic_list())"
    },
    "r": {
     "delete_cmd_postfix": ") ",
     "delete_cmd_prefix": "rm(",
     "library": "var_list.r",
     "varRefreshCmd": "cat(var_dic_list()) "
    }
   },
   "types_to_exclude": [
    "module",
    "function",
    "builtin_function_or_method",
    "instance",
    "_Feature"
   ],
   "window_display": false
  },
  "vscode": {
   "interpreter": {
    "hash": "b6e0f8a12803683744c861614f716ee6d7b4737375095190f9e58ed1bf7efce1"
   }
  }
 },
 "nbformat": 4,
 "nbformat_minor": 4
}
